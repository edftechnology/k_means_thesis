{
 "cells": [
  {
   "cell_type": "markdown",
   "metadata": {},
   "source": [
    "# K-means"
   ]
  },
  {
   "cell_type": "markdown",
   "metadata": {},
   "source": [
    "## Pacote\n",
    "\n",
    "### Pacote(s) Convencional(is)"
   ]
  },
  {
   "cell_type": "code",
   "execution_count": 1,
   "metadata": {},
   "outputs": [
    {
     "name": "stdout",
     "output_type": "stream",
     "text": [
      "Requirement already satisfied: numpy in /home/edenedfsls/.local/lib/python3.8/site-packages (1.24.4)\n",
      "Requirement already satisfied: pandas in /home/edenedfsls/.local/lib/python3.8/site-packages (2.0.3)\n",
      "Requirement already satisfied: python-dateutil>=2.8.2 in /home/edenedfsls/.local/lib/python3.8/site-packages (from pandas) (2.9.0.post0)\n",
      "Requirement already satisfied: pytz>=2020.1 in /home/edenedfsls/.local/lib/python3.8/site-packages (from pandas) (2024.1)\n",
      "Requirement already satisfied: tzdata>=2022.1 in /home/edenedfsls/.local/lib/python3.8/site-packages (from pandas) (2024.1)\n",
      "Requirement already satisfied: numpy>=1.20.3 in /home/edenedfsls/.local/lib/python3.8/site-packages (from pandas) (1.24.4)\n",
      "Requirement already satisfied: six>=1.5 in /home/edenedfsls/.local/lib/python3.8/site-packages (from python-dateutil>=2.8.2->pandas) (1.16.0)\n"
     ]
    }
   ],
   "source": [
    "# Essas linhas foram adicionadas para ajudar o usuário a executar o programa, caso ele não tenha os pacotes instalados, esses serão instalados automaticamente:\n",
    "! pip install numpy\n",
    "! pip install pandas"
   ]
  },
  {
   "cell_type": "code",
   "execution_count": 2,
   "metadata": {},
   "outputs": [],
   "source": [
    "import time as time\n",
    "import numpy as np\n",
    "import pandas as pd\n",
    "import pickle as pkl\n",
    "# Comentei para poder ser executado também em Sistemas Operacionais Linux:\n",
    "# import winsound as winsound\n",
    "import warnings as warnings\n",
    "warnings.filterwarnings(\"ignore\")"
   ]
  },
  {
   "cell_type": "markdown",
   "metadata": {},
   "source": [
    "### Pacote(s) Personalizado(s)"
   ]
  },
  {
   "cell_type": "code",
   "execution_count": 3,
   "metadata": {},
   "outputs": [
    {
     "name": "stdout",
     "output_type": "stream",
     "text": [
      "Requirement already satisfied: scikit-learn in /home/edenedfsls/anaconda3/lib/python3.8/site-packages (1.3.2)\n",
      "Requirement already satisfied: numpy<2.0,>=1.17.3 in /home/edenedfsls/.local/lib/python3.8/site-packages (from scikit-learn) (1.24.4)\n",
      "Requirement already satisfied: scipy>=1.5.0 in /home/edenedfsls/.local/lib/python3.8/site-packages (from scikit-learn) (1.10.1)\n",
      "Requirement already satisfied: joblib>=1.1.1 in /home/edenedfsls/anaconda3/lib/python3.8/site-packages (from scikit-learn) (1.3.2)\n",
      "Requirement already satisfied: threadpoolctl>=2.0.0 in /home/edenedfsls/anaconda3/lib/python3.8/site-packages (from scikit-learn) (3.4.0)\n"
     ]
    }
   ],
   "source": [
    "# Essas linhas foram adicionadas para ajudar o usuário a executar o programa, caso ele não tenha os pacotes instalados, esses serão instalados automaticamente:\n",
    "! pip install scikit-learn\n",
    "# ! pip install PyQt5\n",
    "# ! pip install PySide2"
   ]
  },
  {
   "cell_type": "code",
   "execution_count": 5,
   "metadata": {},
   "outputs": [],
   "source": [
    "import functions.k_means as km\n",
    "import functions.validacoes_das_variaveis as vv\n",
    "import functions.gerar_grafico_elbow_data as ed\n",
    "import functions.gerar_relatorio_dos_clusteres as re\n",
    "import functions.gerar_grafico_dendrograma as de"
   ]
  },
  {
   "cell_type": "code",
   "execution_count": 6,
   "metadata": {},
   "outputs": [],
   "source": [
    "# tempo_inicio: tempo de início da execução do código (processo)\n",
    "tempo_inicio = time.time()\n",
    "# tempo_inicio: tempo de início da execução do código (processo de cálculo, CPU)\n",
    "tempo_inicio_CPU = time.perf_counter()"
   ]
  },
  {
   "cell_type": "markdown",
   "metadata": {},
   "source": [
    "## Carregamento, Armazenamento e Manipulação de Dados"
   ]
  },
  {
   "cell_type": "markdown",
   "metadata": {},
   "source": [
    "### Observações(ões)\n",
    "\n",
    "   Banco de dados deve estar estruturado da seguinte forma\n",
    "    \n",
    "   1. A primeira coluna deve ser de nomeação/identificação das lições;\n",
    "   2. As colunas seguintes devem ser as variáveis do problema."
   ]
  },
  {
   "cell_type": "markdown",
   "metadata": {},
   "source": [
    "### Carregamento "
   ]
  },
  {
   "cell_type": "code",
   "execution_count": 7,
   "metadata": {},
   "outputs": [
    {
     "data": {
      "text/html": [
       "<div>\n",
       "<style scoped>\n",
       "    .dataframe tbody tr th:only-of-type {\n",
       "        vertical-align: middle;\n",
       "    }\n",
       "\n",
       "    .dataframe tbody tr th {\n",
       "        vertical-align: top;\n",
       "    }\n",
       "\n",
       "    .dataframe thead th {\n",
       "        text-align: right;\n",
       "    }\n",
       "</style>\n",
       "<table border=\"1\" class=\"dataframe\">\n",
       "  <thead>\n",
       "    <tr style=\"text-align: right;\">\n",
       "      <th></th>\n",
       "      <th>Número de série</th>\n",
       "      <th>muF oxid</th>\n",
       "      <th>muF comb</th>\n",
       "    </tr>\n",
       "  </thead>\n",
       "  <tbody>\n",
       "    <tr>\n",
       "      <th>0</th>\n",
       "      <td>3</td>\n",
       "      <td>0.000002</td>\n",
       "      <td>0.000001</td>\n",
       "    </tr>\n",
       "    <tr>\n",
       "      <th>1</th>\n",
       "      <td>4</td>\n",
       "      <td>0.000002</td>\n",
       "      <td>0.000001</td>\n",
       "    </tr>\n",
       "    <tr>\n",
       "      <th>2</th>\n",
       "      <td>16</td>\n",
       "      <td>0.000002</td>\n",
       "      <td>0.000001</td>\n",
       "    </tr>\n",
       "    <tr>\n",
       "      <th>3</th>\n",
       "      <td>20</td>\n",
       "      <td>0.000002</td>\n",
       "      <td>0.000001</td>\n",
       "    </tr>\n",
       "    <tr>\n",
       "      <th>4</th>\n",
       "      <td>21</td>\n",
       "      <td>0.000002</td>\n",
       "      <td>0.000001</td>\n",
       "    </tr>\n",
       "  </tbody>\n",
       "</table>\n",
       "</div>"
      ],
      "text/plain": [
       "   Número de série  muF oxid  muF comb\n",
       "0                3  0.000002  0.000001\n",
       "1                4  0.000002  0.000001\n",
       "2               16  0.000002  0.000001\n",
       "3               20  0.000002  0.000001\n",
       "4               21  0.000002  0.000001"
      ]
     },
     "execution_count": 7,
     "metadata": {},
     "output_type": "execute_result"
    }
   ],
   "source": [
    "# endereco = \"inputs/tres_ponto_um.xlsx\"\n",
    "# endereco = \"inputs/quatro_ponto_um.xlsx\"\n",
    "# endereco = \"inputs/seis_ponto_um.xlsx\"\n",
    "# endereco = \"inputs/aeronaves_civis_sem_data_de_entrada_de_operacao.xlsx\"\n",
    "# endereco = \"inputs/aeronaves_civis_arbitrado_sem_data_de_entrada_de_operacao.xlsx\"\n",
    "# endereco = \"inputs/aeronaves_militares_sem_data_de_entrada_de_operacao.xlsx\"\n",
    "endereco = \"inputs/aeronaves_militares_arbitrado_sem_data_de_entrada_de_operacao.xlsx\"\n",
    "\n",
    "banco_de_dados = pd.read_excel(endereco,\n",
    "                               sheet_name = 0)\n",
    "\n",
    "bd_auxiliar = banco_de_dados.copy()\n",
    "\n",
    "bd_auxiliar.head()"
   ]
  },
  {
   "cell_type": "code",
   "execution_count": 8,
   "metadata": {},
   "outputs": [
    {
     "data": {
      "text/plain": [
       "(150, 3)"
      ]
     },
     "execution_count": 8,
     "metadata": {},
     "output_type": "execute_result"
    }
   ],
   "source": [
    "bd_auxiliar.shape"
   ]
  },
  {
   "cell_type": "code",
   "execution_count": 9,
   "metadata": {},
   "outputs": [
    {
     "data": {
      "text/plain": [
       "Número de série      int64\n",
       "muF oxid           float64\n",
       "muF comb           float64\n",
       "dtype: object"
      ]
     },
     "execution_count": 9,
     "metadata": {},
     "output_type": "execute_result"
    }
   ],
   "source": [
    "bd_auxiliar.dtypes"
   ]
  },
  {
   "cell_type": "code",
   "execution_count": 10,
   "metadata": {},
   "outputs": [],
   "source": [
    "aplicar_condicoes_pre_definidas = \\\n",
    "    int(input(\"Deseja aplicar as \" \n",
    "              \"condições pré-definidas? \\n\\n\"\n",
    "              \"0: NÃO; \\n\"\n",
    "              \"1: Sim. \\n\\n\"\n",
    "              \"Resposta: \"))"
   ]
  },
  {
   "cell_type": "code",
   "execution_count": 11,
   "metadata": {},
   "outputs": [
    {
     "data": {
      "text/html": [
       "<div>\n",
       "<style scoped>\n",
       "    .dataframe tbody tr th:only-of-type {\n",
       "        vertical-align: middle;\n",
       "    }\n",
       "\n",
       "    .dataframe tbody tr th {\n",
       "        vertical-align: top;\n",
       "    }\n",
       "\n",
       "    .dataframe thead th {\n",
       "        text-align: right;\n",
       "    }\n",
       "</style>\n",
       "<table border=\"1\" class=\"dataframe\">\n",
       "  <thead>\n",
       "    <tr style=\"text-align: right;\">\n",
       "      <th></th>\n",
       "      <th>Número de série</th>\n",
       "      <th>muF oxid</th>\n",
       "      <th>muF comb</th>\n",
       "    </tr>\n",
       "  </thead>\n",
       "  <tbody>\n",
       "    <tr>\n",
       "      <th>0</th>\n",
       "      <td>3</td>\n",
       "      <td>0.000002</td>\n",
       "      <td>0.000001</td>\n",
       "    </tr>\n",
       "    <tr>\n",
       "      <th>1</th>\n",
       "      <td>4</td>\n",
       "      <td>0.000002</td>\n",
       "      <td>0.000001</td>\n",
       "    </tr>\n",
       "    <tr>\n",
       "      <th>2</th>\n",
       "      <td>16</td>\n",
       "      <td>0.000002</td>\n",
       "      <td>0.000001</td>\n",
       "    </tr>\n",
       "    <tr>\n",
       "      <th>3</th>\n",
       "      <td>20</td>\n",
       "      <td>0.000002</td>\n",
       "      <td>0.000001</td>\n",
       "    </tr>\n",
       "    <tr>\n",
       "      <th>4</th>\n",
       "      <td>21</td>\n",
       "      <td>0.000002</td>\n",
       "      <td>0.000001</td>\n",
       "    </tr>\n",
       "  </tbody>\n",
       "</table>\n",
       "</div>"
      ],
      "text/plain": [
       "   Número de série  muF oxid  muF comb\n",
       "0                3  0.000002  0.000001\n",
       "1                4  0.000002  0.000001\n",
       "2               16  0.000002  0.000001\n",
       "3               20  0.000002  0.000001\n",
       "4               21  0.000002  0.000001"
      ]
     },
     "execution_count": 11,
     "metadata": {},
     "output_type": "execute_result"
    }
   ],
   "source": [
    "\"\"\"\n",
    "A primeira coluna é removida, pois trata-se da \n",
    "'Nome da Lição' da produto.\n",
    "\"\"\"\n",
    "\n",
    "if aplicar_condicoes_pre_definidas == 0:\n",
    "    # excluir: variável para indicar a exclusão ou NÃO da primeira coluna\n",
    "    excluir = int(input(\"Deseja excluir primeira coluna da tabela indicada na \" \n",
    "                        \"variável <endereco>? \\n\\n\"\n",
    "                        \"0 (zero): NÃO excluir; \\n\"\n",
    "                        \"1 (um): excluir. \\n\\n\"\n",
    "                        \"Resposta: \"))\n",
    "elif aplicar_condicoes_pre_definidas == 1:\n",
    "    excluir = 1\n",
    "\n",
    "if excluir == 1:\n",
    "    bd_auxiliar = bd_auxiliar.drop(bd_auxiliar.columns[0],\n",
    "                                   axis = 1)\n",
    "\n",
    "bd_auxiliar.head()"
   ]
  },
  {
   "cell_type": "code",
   "execution_count": 12,
   "metadata": {},
   "outputs": [
    {
     "data": {
      "text/plain": [
       "(150, 3)"
      ]
     },
     "execution_count": 12,
     "metadata": {},
     "output_type": "execute_result"
    }
   ],
   "source": [
    "bd_auxiliar.shape"
   ]
  },
  {
   "cell_type": "markdown",
   "metadata": {},
   "source": [
    "## Variável(is)"
   ]
  },
  {
   "cell_type": "code",
   "execution_count": 13,
   "metadata": {},
   "outputs": [],
   "source": [
    "# sementes: sementes do BIG Data\n",
    "sementes = bd_auxiliar.values\n",
    "\n",
    "# n: número total de elementos (linhas)\n",
    "n = sementes.shape[0]\n",
    "\n",
    "# num_de_variaveis: número total de variáveis (colunas)\n",
    "num_de_variaveis = sementes.shape[1]"
   ]
  },
  {
   "cell_type": "code",
   "execution_count": 14,
   "metadata": {},
   "outputs": [
    {
     "name": "stdout",
     "output_type": "stream",
     "text": [
      "Número do k Inicial = 2\n"
     ]
    }
   ],
   "source": [
    "if aplicar_condicoes_pre_definidas == 0:\n",
    "    # num_de_k_inicial = Número do k inicial\n",
    "    num_de_k_inicial = int(input(\"Digitar o 'Número do k Inicial' = \"))\n",
    "elif aplicar_condicoes_pre_definidas == 1:\n",
    "    num_de_k_inicial = 2\n",
    "    \n",
    "print(\"Número do k Inicial = \" + str(num_de_k_inicial))"
   ]
  },
  {
   "cell_type": "code",
   "execution_count": 15,
   "metadata": {},
   "outputs": [
    {
     "name": "stdout",
     "output_type": "stream",
     "text": [
      "Número total de k-clusters K = 20\n"
     ]
    }
   ],
   "source": [
    "if aplicar_condicoes_pre_definidas == 0:\n",
    "    # K = Número total de clusters\n",
    "    K = int(input(\"Digitar o 'Número total de k-clusters K' = \"))\n",
    "elif aplicar_condicoes_pre_definidas == 1:\n",
    "    K = 15\n",
    "    \n",
    "print(\"Número total de k-clusters K = \" + str(K))"
   ]
  },
  {
   "cell_type": "code",
   "execution_count": 16,
   "metadata": {},
   "outputs": [
    {
     "name": "stdout",
     "output_type": "stream",
     "text": [
      "Número total de k-clusters K = 20\n"
     ]
    }
   ],
   "source": [
    "# Condição para NÃO gerar mais grupos do que elementos\n",
    "porcentagem = 0.80\n",
    "\n",
    "if K >= int(porcentagem * n):\n",
    "    print(\"Espeficique um valor de \"\n",
    "          \"'Número Total de k-clusters K' menor que\",\n",
    "          int(porcentagem * n))\n",
    "    quit()\n",
    "    \n",
    "print(\"Número total de k-clusters K = \" + str(K))"
   ]
  },
  {
   "cell_type": "code",
   "execution_count": 17,
   "metadata": {},
   "outputs": [
    {
     "name": "stdout",
     "output_type": "stream",
     "text": [
      "Número total de iterações = 1000\n"
     ]
    }
   ],
   "source": [
    "if aplicar_condicoes_pre_definidas == 0:\n",
    "    # num_max_I = Número máximo de iterações\n",
    "    num_max_I = int(input(\"Digitar o 'Número total de iterações' = \"))\n",
    "elif aplicar_condicoes_pre_definidas == 1:\n",
    "    num_max_I = 1000\n",
    "    \n",
    "print(\"Número total de iterações = \" + str(num_max_I))"
   ]
  },
  {
   "cell_type": "code",
   "execution_count": 18,
   "metadata": {},
   "outputs": [
    {
     "name": "stdout",
     "output_type": "stream",
     "text": [
      "Número do k Inicial = 2\n"
     ]
    }
   ],
   "source": [
    "if num_de_k_inicial <= 1 or num_de_k_inicial > K:\n",
    "    print(\"Espeficique um valor de \"\n",
    "          \"'Número do k Inicial' maior ou igual a 2 (dois) \"\n",
    "          \"e menor ou igual ao 'Número Total K de k-clusters' \"\n",
    "         \"(K = \" + str(K) + \").\")\n",
    "    quit()\n",
    "    \n",
    "print(\"Número do k Inicial = \" + str(num_de_k_inicial))"
   ]
  },
  {
   "cell_type": "code",
   "execution_count": 19,
   "metadata": {},
   "outputs": [
    {
     "name": "stdout",
     "output_type": "stream",
     "text": [
      "Título do Eixo x do Dendrograma: Aeronaves militares\n"
     ]
    }
   ],
   "source": [
    "if aplicar_condicoes_pre_definidas == 0:\n",
    "    # titulo_do_eixo_x_do_dendrograma = Título do eixo x do dendrograma\n",
    "    titulo_do_eixo_x_do_dendrograma = input(\"Digitar o \"\n",
    "                                            \"'Título do Eixo x do \"\n",
    "                                            \"Dendrograma': \")\n",
    "\n",
    "elif aplicar_condicoes_pre_definidas == 1:\n",
    "    titulo_do_eixo_x_do_dendrograma = \"Doadores\"\n",
    "    \n",
    "print(\"Título do Eixo x do Dendrograma: \" + \n",
    "      str(titulo_do_eixo_x_do_dendrograma))"
   ]
  },
  {
   "cell_type": "code",
   "execution_count": 20,
   "metadata": {},
   "outputs": [],
   "source": [
    "# populacao = População máxima a ser exibida no gráfico dendrograma\n",
    "populacao = input(\"\\nDigitar o 'Número máximo da população a ser exibida no gráfico dendrograma' = \")\n",
    "descricao = \"Número máximo da população a ser exibida no gráfico dendrograma\"\n",
    "populacao = \\\n",
    "    vv.validar_variavel_inteira_nao_negativa(populacao, descricao)\n",
    "# print(\"Número máximo da população a ser exibida no gráfico dendrograma =\", populacao)\n"
   ]
  },
  {
   "cell_type": "code",
   "execution_count": 21,
   "metadata": {},
   "outputs": [],
   "source": [
    "# \"\"\"\n",
    "# Os objetos são salvos para NÃO ter que\n",
    "# executar todo o código novamente, simplesmente\n",
    "# para executar uma function ou fazer um servidor\n",
    "# ler o arquivo.\n",
    "# \"\"\"\n",
    "\n",
    "# # Escrever arquivo:\n",
    "# pkl.dump([num_de_k_inicial,\n",
    "#           K, \n",
    "#           sementes,\n",
    "#           num_max_I], \n",
    "#          open(\"pickles/objetos_k_means.pkl\",\n",
    "#               \"wb\"),\n",
    "#          protocol = 4)"
   ]
  },
  {
   "cell_type": "markdown",
   "metadata": {},
   "source": [
    "## Cálculo(s)"
   ]
  },
  {
   "cell_type": "code",
   "execution_count": 23,
   "metadata": {},
   "outputs": [
    {
     "name": "stdout",
     "output_type": "stream",
     "text": [
      "\n",
      "---\n",
      "RESULTADO(S) PARA k = 2:\n",
      "\n",
      "                 Distâncias ótimas normalizadas  Número do cluster\n",
      "Número de série                                                   \n",
      "102                                    0.590124                0.0\n",
      "104                                    0.596620                0.0\n",
      "105                                    0.599945                0.0\n",
      "106                                    0.603320                0.0\n",
      "107                                    0.606745                0.0\n",
      "...                                         ...                ...\n",
      "99                                     0.580778                1.0\n",
      "100                                    0.583839                1.0\n",
      "101                                    0.586955                1.0\n",
      "4                                      0.612559                1.0\n",
      "3                                      0.616111                1.0\n",
      "\n",
      "[150 rows x 2 columns]\n",
      "\n",
      "---\n",
      "RESULTADO(S) PARA k = 3:\n",
      "\n",
      "                 Distâncias ótimas normalizadas  Número do cluster\n",
      "Número de série                                                   \n",
      "73                                     0.844511                0.0\n",
      "72                                     0.845719                0.0\n",
      "71                                     0.846961                0.0\n",
      "70                                     0.848236                0.0\n",
      "69                                     0.849544                0.0\n",
      "...                                         ...                ...\n",
      "80                                     0.837002                2.0\n",
      "134                                    0.837421                2.0\n",
      "135                                    0.838406                2.0\n",
      "77                                     0.840016                2.0\n",
      "76                                     0.841089                2.0\n",
      "\n",
      "[150 rows x 2 columns]\n",
      "\n",
      "---\n",
      "RESULTADO(S) PARA k = 4:\n",
      "\n",
      "                 Distâncias ótimas normalizadas  Número do cluster\n",
      "Número de série                                                   \n",
      "147                                    0.828603                0.0\n",
      "148                                    0.829153                0.0\n",
      "149                                    0.829728                0.0\n",
      "150                                    0.830329                0.0\n",
      "151                                    0.830954                0.0\n",
      "...                                         ...                ...\n",
      "107                                    0.827677                3.0\n",
      "146                                    0.828079                3.0\n",
      "106                                    0.828182                3.0\n",
      "105                                    0.828711                3.0\n",
      "104                                    0.829266                3.0\n",
      "\n",
      "[150 rows x 2 columns]\n",
      "\n",
      "---\n",
      "RESULTADO(S) PARA k = 5:\n",
      "\n",
      "                 Distâncias ótimas normalizadas  Número do cluster\n",
      "Número de série                                                   \n",
      "88                                     0.869027                0.0\n",
      "87                                     0.870135                0.0\n",
      "86                                     0.871254                0.0\n",
      "85                                     0.872385                0.0\n",
      "83                                     0.874681                0.0\n",
      "...                                         ...                ...\n",
      "157                                    0.822863                4.0\n",
      "188                                    0.822921                4.0\n",
      "156                                    0.823082                4.0\n",
      "189                                    0.823144                4.0\n",
      "190                                    0.823380                4.0\n",
      "\n",
      "[150 rows x 2 columns]\n",
      "\n",
      "---\n",
      "RESULTADO(S) PARA k = 6:\n",
      "\n",
      "                 Distâncias ótimas normalizadas  Número do cluster\n",
      "Número de série                                                   \n",
      "163                                    0.823632                0.0\n",
      "164                                    0.823888                0.0\n",
      "165                                    0.824164                0.0\n",
      "166                                    0.824457                0.0\n",
      "167                                    0.824768                0.0\n",
      "...                                         ...                ...\n",
      "160                                    0.822971                5.0\n",
      "161                                    0.823173                5.0\n",
      "138                                    0.823173                5.0\n",
      "137                                    0.823393                5.0\n",
      "162                                    0.823393                5.0\n",
      "\n",
      "[150 rows x 2 columns]\n",
      "\n",
      "---\n",
      "RESULTADO(S) PARA k = 7:\n",
      "\n",
      "                 Distâncias ótimas normalizadas  Número do cluster\n",
      "Número de série                                                   \n",
      "95                                     0.735969                0.0\n",
      "97                                     0.737490                0.0\n",
      "98                                     0.738330                0.0\n",
      "99                                     0.739223                0.0\n",
      "100                                    0.740168                0.0\n",
      "...                                         ...                ...\n",
      "90                                     0.733105                6.0\n",
      "73                                     0.733509                6.0\n",
      "91                                     0.733570                6.0\n",
      "72                                     0.734021                6.0\n",
      "71                                     0.734588                6.0\n",
      "\n",
      "[150 rows x 2 columns]\n",
      "\n",
      "---\n",
      "RESULTADO(S) PARA k = 8:\n",
      "\n",
      "                 Distâncias ótimas normalizadas  Número do cluster\n",
      "Número de série                                                   \n",
      "155                                    0.821244                0.0\n",
      "156                                    0.826034                0.0\n",
      "157                                    0.830847                0.0\n",
      "158                                    0.835681                0.0\n",
      "159                                    0.840537                0.0\n",
      "...                                         ...                ...\n",
      "71                                     0.554997                7.0\n",
      "49                                     0.555744                7.0\n",
      "72                                     0.555822                7.0\n",
      "48                                     0.556636                7.0\n",
      "45                                     0.559750                7.0\n",
      "\n",
      "[150 rows x 2 columns]\n",
      "\n",
      "---\n",
      "RESULTADO(S) PARA k = 9:\n",
      "\n",
      "                 Distâncias ótimas normalizadas  Número do cluster\n",
      "Número de série                                                   \n",
      "119                                    0.826656                0.0\n",
      "120                                    0.827099                0.0\n",
      "121                                    0.827579                0.0\n",
      "122                                    0.828093                0.0\n",
      "123                                    0.828644                0.0\n",
      "...                                         ...                ...\n",
      "99                                     0.825298                8.0\n",
      "116                                    0.825538                8.0\n",
      "98                                     0.825606                8.0\n",
      "117                                    0.825875                8.0\n",
      "97                                     0.825951                8.0\n",
      "\n",
      "[150 rows x 2 columns]\n",
      "\n",
      "---\n",
      "RESULTADO(S) PARA k = 10:\n",
      "\n",
      "                 Distâncias ótimas normalizadas  Número do cluster\n",
      "Número de série                                                   \n",
      "159                                    0.828046                0.0\n",
      "160                                    0.828550                0.0\n",
      "161                                    0.829075                0.0\n",
      "162                                    0.829622                0.0\n",
      "163                                    0.830191                0.0\n",
      "...                                         ...                ...\n",
      "132                                    0.822701                9.0\n",
      "142                                    0.822811                9.0\n",
      "131                                    0.822811                9.0\n",
      "143                                    0.822944                9.0\n",
      "130                                    0.822944                9.0\n",
      "\n",
      "[150 rows x 2 columns]\n",
      "\n",
      "---\n",
      "RESULTADO(S) PARA k = 11:\n",
      "\n",
      "                 Distâncias ótimas normalizadas  Número do cluster\n",
      "Número de série                                                   \n",
      "111                                    0.851276                0.0\n",
      "110                                    0.852128                0.0\n",
      "108                                    0.853866                0.0\n",
      "107                                    0.854752                0.0\n",
      "106                                    0.855649                0.0\n",
      "...                                         ...                ...\n",
      "188                                    0.821286               10.0\n",
      "174                                    0.821329               10.0\n",
      "189                                    0.821376               10.0\n",
      "173                                    0.821426               10.0\n",
      "190                                    0.821479               10.0\n",
      "\n",
      "[150 rows x 2 columns]\n",
      "\n",
      "---\n",
      "RESULTADO(S) PARA k = 12:\n",
      "\n",
      "                 Distâncias ótimas normalizadas  Número do cluster\n",
      "Número de série                                                   \n",
      "163                                    0.859421                0.0\n",
      "164                                    0.860886                0.0\n",
      "165                                    0.862378                0.0\n",
      "166                                    0.863897                0.0\n",
      "167                                    0.865443                0.0\n",
      "...                                         ...                ...\n",
      "119                                    0.823910               11.0\n",
      "110                                    0.823957               11.0\n",
      "120                                    0.824061               11.0\n",
      "121                                    0.824244               11.0\n",
      "108                                    0.824312               11.0\n",
      "\n",
      "[150 rows x 2 columns]\n",
      "\n",
      "---\n",
      "RESULTADO(S) PARA k = 13:\n",
      "\n",
      "                 Distâncias ótimas normalizadas  Número do cluster\n",
      "Número de série                                                   \n",
      "58                                     0.861372                0.0\n",
      "57                                     0.863054                0.0\n",
      "56                                     0.864772                0.0\n",
      "55                                     0.866525                0.0\n",
      "54                                     0.868312                0.0\n",
      "...                                         ...                ...\n",
      "105                                    0.824837               12.0\n",
      "97                                     0.824924               12.0\n",
      "106                                    0.825006               12.0\n",
      "107                                    0.825216               12.0\n",
      "95                                     0.825348               12.0\n",
      "\n",
      "[150 rows x 2 columns]\n",
      "\n",
      "---\n",
      "RESULTADO(S) PARA k = 14:\n",
      "\n",
      "                 Distâncias ótimas normalizadas  Número do cluster\n",
      "Número de série                                                   \n",
      "4                                      0.997643                0.0\n",
      "3                                      1.000000                0.0\n",
      "158                                    0.825719                1.0\n",
      "159                                    0.826106                1.0\n",
      "160                                    0.826513                1.0\n",
      "...                                         ...                ...\n",
      "143                                    0.822422               13.0\n",
      "144                                    0.822496               13.0\n",
      "136                                    0.822496               13.0\n",
      "135                                    0.822590               13.0\n",
      "145                                    0.822590               13.0\n",
      "\n",
      "[150 rows x 2 columns]\n",
      "\n",
      "---\n",
      "RESULTADO(S) PARA k = 15:\n",
      "\n",
      "                 Distâncias ótimas normalizadas  Número do cluster\n",
      "Número de série                                                   \n",
      "91                                     0.845319                0.0\n",
      "90                                     0.846309                0.0\n",
      "89                                     0.847320                0.0\n",
      "88                                     0.848351                0.0\n",
      "87                                     0.849402                0.0\n",
      "...                                         ...                ...\n",
      "134                                    0.822554               14.0\n",
      "133                                    0.822631               14.0\n",
      "141                                    0.822631               14.0\n",
      "142                                    0.822730               14.0\n",
      "132                                    0.822730               14.0\n",
      "\n",
      "[150 rows x 2 columns]\n",
      "\n",
      "---\n",
      "RESULTADO(S) PARA k = 16:\n",
      "\n",
      "                 Distâncias ótimas normalizadas  Número do cluster\n",
      "Número de série                                                   \n",
      "4                                      0.997600                0.0\n",
      "3                                      1.000000                0.0\n",
      "106                                    0.833155                1.0\n",
      "105                                    0.833842                1.0\n",
      "104                                    0.834550                1.0\n",
      "...                                         ...                ...\n",
      "136                                    0.822459               15.0\n",
      "135                                    0.822502               15.0\n",
      "140                                    0.822502               15.0\n",
      "134                                    0.822567               15.0\n",
      "141                                    0.822567               15.0\n",
      "\n",
      "[150 rows x 2 columns]\n",
      "\n",
      "---\n",
      "RESULTADO(S) PARA k = 17:\n",
      "\n",
      "                 Distâncias ótimas normalizadas  Número do cluster\n",
      "Número de série                                                   \n",
      "4                                      0.913568                0.0\n",
      "3                                      0.917079                0.0\n",
      "56                                     0.779885                1.0\n",
      "55                                     0.781396                1.0\n",
      "54                                     0.782953                1.0\n",
      "...                                         ...                ...\n",
      "82                                     0.757875               16.0\n",
      "90                                     0.758025               16.0\n",
      "81                                     0.758088               16.0\n",
      "91                                     0.758276               16.0\n",
      "80                                     0.758353               16.0\n",
      "\n",
      "[150 rows x 2 columns]\n",
      "\n",
      "---\n",
      "RESULTADO(S) PARA k = 18:\n",
      "\n",
      "                 Distâncias ótimas normalizadas  Número do cluster\n",
      "Número de série                                                   \n",
      "4                                      0.998105                0.0\n",
      "3                                      1.000000                0.0\n",
      "144                                    0.827423                1.0\n",
      "143                                    0.827838                1.0\n",
      "142                                    0.828266                1.0\n",
      "...                                         ...                ...\n",
      "177                                    0.821217               17.0\n",
      "178                                    0.821258               17.0\n",
      "171                                    0.821258               17.0\n",
      "170                                    0.821312               17.0\n",
      "179                                    0.821312               17.0\n",
      "\n",
      "[150 rows x 2 columns]\n",
      "\n",
      "---\n",
      "RESULTADO(S) PARA k = 19:\n",
      "\n",
      "                 Distâncias ótimas normalizadas  Número do cluster\n",
      "Número de série                                                   \n",
      "4                                      0.997895                0.0\n",
      "3                                      1.000000                0.0\n",
      "162                                    0.821905                1.0\n",
      "163                                    0.821997                1.0\n",
      "164                                    0.822105                1.0\n",
      "...                                         ...                ...\n",
      "159                                    0.821730               18.0\n",
      "154                                    0.821772               18.0\n",
      "160                                    0.821772               18.0\n",
      "161                                    0.821830               18.0\n",
      "153                                    0.821830               18.0\n",
      "\n",
      "[150 rows x 2 columns]\n",
      "\n",
      "---\n",
      "RESULTADO(S) PARA k = 20:\n",
      "\n",
      "                 Distâncias ótimas normalizadas  Número do cluster\n",
      "Número de série                                                   \n",
      "4                                      0.997941                0.0\n",
      "3                                      1.000000                0.0\n",
      "25                                     0.956842                1.0\n",
      "24                                     0.958703                1.0\n",
      "23                                     0.960573                1.0\n",
      "...                                         ...                ...\n",
      "162                                    0.821601               19.0\n",
      "163                                    0.821633               19.0\n",
      "158                                    0.821633               19.0\n",
      "164                                    0.821681               19.0\n",
      "157                                    0.821681               19.0\n",
      "\n",
      "[150 rows x 2 columns]\n"
     ]
    }
   ],
   "source": [
    "# os medioides_otimos devem ser um arranjo\n",
    "medioides_otimos_lista = []\n",
    "ks_min_otimos_lista = []\n",
    "WSs_total_otimo_lista = []\n",
    "\n",
    "for k in range(num_de_k_inicial, K + 1, 1):\n",
    "    distancias_otimas, medioides_otimos, \\\n",
    "    ks_min_otimos, WS_total_otimo = \\\n",
    "        km.k_means(num_de_k_inicial, k, sementes, num_max_I)\n",
    "    medioides_otimos_lista.append(medioides_otimos)\n",
    "    ks_min_otimos_lista.append(ks_min_otimos)\n",
    "    WSs_total_otimo_lista.append(WS_total_otimo)\n",
    "\n",
    "    # RESULTADO(S): ---\n",
    "    print(\"\\n---\")\n",
    "    print(\"RESULTADO(S) PARA k = \" + str(k) + \":\")\n",
    "    print(\"\")\n",
    "\n",
    "    # print(\"Medioides ótimos:\")\n",
    "    # print(medioides_otimos_lista)\n",
    "    # print(\"\")\n",
    "\n",
    "    # Gerar relatório em planilha:\n",
    "    endereco = endereco.replace(\"inputs/\", \"\")\n",
    "    endereco = endereco.replace(\".xlsx\", \"_\")\n",
    "    re.gerar_relatorio_dos_clusteres(endereco,\n",
    "                                    banco_de_dados,\n",
    "                                    distancias_otimas,\n",
    "                                    ks_min_otimos,\n",
    "                                    num_de_k_inicial,\n",
    "                                    k,\n",
    "                                    K,\n",
    "                                    num_max_I)\n",
    "\n",
    "    # print(\"\")\n",
    "    # print(\"WS total ótimo:\")\n",
    "    # print(WSs_total_otimo_lista)\n",
    "    # print(\"\")\n",
    "\n",
    "    # Gráfico(s):\n",
    "\n",
    "    # Plotar Dendrograma:\n",
    "    if n <= populacao:\n",
    "        populacao = n\n",
    "    else:\n",
    "        populacao = 150  # É conveniente que seja um valor próximo de 40\n",
    "\n",
    "    # for populacao in range(2, n + 1, 1): Caso se queira executar\n",
    "    # o programa para gerar is elbow data charts para cada valor\n",
    "    # de população\n",
    "\n",
    "    if endereco.endswith(\"_\") == True:\n",
    "        endereco = endereco[:-1]\n",
    "    endereco_antigo = endereco\n",
    "    de.gerar_grafico_dendrograma(endereco,\n",
    "                                banco_de_dados,\n",
    "                                distancias_otimas,\n",
    "                                num_de_k_inicial,\n",
    "                                k,\n",
    "                                populacao,\n",
    "                                titulo_do_eixo_x_do_dendrograma,\n",
    "                                K,\n",
    "                                num_max_I)\n",
    "    endereco = endereco_antigo"
   ]
  },
  {
   "cell_type": "markdown",
   "metadata": {},
   "source": [
    "## Resultado(s)"
   ]
  },
  {
   "cell_type": "code",
   "execution_count": 24,
   "metadata": {},
   "outputs": [],
   "source": [
    "# # Escrever arquivo:\n",
    "# pkl.dump([endereco,\n",
    "#           num_de_k_inicial,\n",
    "#           K,\n",
    "#           WSs_total_otimo_lista], \n",
    "#          open(\"pickles/objetos_edc.pkl\", \"wb\"),\n",
    "#         protocol = 4)"
   ]
  },
  {
   "cell_type": "code",
   "execution_count": 25,
   "metadata": {},
   "outputs": [
    {
     "data": {
      "text/plain": [
       "'.injetores_l25'"
      ]
     },
     "execution_count": 25,
     "metadata": {},
     "output_type": "execute_result"
    }
   ],
   "source": [
    "endereco"
   ]
  },
  {
   "cell_type": "code",
   "execution_count": 26,
   "metadata": {},
   "outputs": [],
   "source": [
    "# Plotar o Elbow Data Chart:\n",
    "ed.gerar_grafico_elbow_data(endereco,\n",
    "                            num_de_k_inicial,\n",
    "                            K,\n",
    "                            WSs_total_otimo_lista,\n",
    "                            num_max_I)"
   ]
  },
  {
   "cell_type": "code",
   "execution_count": 27,
   "metadata": {},
   "outputs": [],
   "source": [
    "# Comentei para poder ser executado também em Sistemas Operacionais Linux:\n",
    "# frequencia = 2500 # (Hertz)\n",
    "# duracao = 1000 # (ms)\n",
    "# winsound.Beep(frequencia, duracao)"
   ]
  },
  {
   "cell_type": "code",
   "execution_count": 28,
   "metadata": {},
   "outputs": [
    {
     "name": "stdout",
     "output_type": "stream",
     "text": [
      "O tempo de execução da aplicação é = 958.39 s\n"
     ]
    }
   ],
   "source": [
    "tempo_fim = time.time() - tempo_inicio\n",
    "tempo_fim_CPU = time.perf_counter() - tempo_inicio_CPU\n",
    "print(\"O tempo de execução da aplicação é = \" +\n",
    "      str(round(tempo_fim, 2)) + \" s\")"
   ]
  },
  {
   "cell_type": "code",
   "execution_count": null,
   "metadata": {},
   "outputs": [],
   "source": []
  }
 ],
 "metadata": {
  "interpreter": {
   "hash": "7c86ccc0804aacbed622f298a549d096f3c65b3c32c27d441daf95a3c1fc3d31"
  },
  "kernelspec": {
   "display_name": "Python 3.8.10 ('base')",
   "language": "python",
   "name": "python3"
  },
  "language_info": {
   "codemirror_mode": {
    "name": "ipython",
    "version": 3
   },
   "file_extension": ".py",
   "mimetype": "text/x-python",
   "name": "python",
   "nbconvert_exporter": "python",
   "pygments_lexer": "ipython3",
   "version": "3.8.6"
  }
 },
 "nbformat": 4,
 "nbformat_minor": 2
}
